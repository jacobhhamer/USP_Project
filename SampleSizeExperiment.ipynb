{
 "cells": [
  {
   "cell_type": "code",
   "execution_count": 12,
   "metadata": {},
   "outputs": [],
   "source": [
    "import numpy as np\n",
    "import pandas as pd\n",
    "import matplotlib.pyplot as plt\n",
    "from matplotlib.ticker import (MultipleLocator, FormatStrFormatter,\n",
    "                               AutoMinorLocator)\n",
    "plt.rcParams['xtick.direction']='in'\n",
    "plt.rcParams['ytick.direction']='in'\n",
    "plt.rcParams['xtick.minor.visible']='True'\n",
    "plt.rcParams['ytick.minor.visible']='True'"
   ]
  },
  {
   "cell_type": "code",
   "execution_count": 13,
   "metadata": {},
   "outputs": [
    {
     "name": "stdout",
     "output_type": "stream",
     "text": [
      "100000\n",
      "0.59823\n"
     ]
    }
   ],
   "source": [
    "iters=[]\n",
    "try:\n",
    "    uspdev=np.loadtxt('uspmciters/mc_iters_0.txt')[0,0]\n",
    "except:\n",
    "    print(j)\n",
    "for i in range(100):\n",
    "    try:\n",
    "        iters.append(np.loadtxt('uspmciters/mc_iters_'+str(i)+'.txt')[:,1].tolist())\n",
    "    except: \n",
    "        print(i)\n",
    "        continue\n",
    "iters=np.concatenate(iters)\n",
    "iters=pd.Series(iters)\n",
    "print(len(iters))\n",
    "print(len(iters.loc[iters<uspdev])/len(iters))"
   ]
  },
  {
   "cell_type": "code",
   "execution_count": 18,
   "metadata": {},
   "outputs": [
    {
     "data": {
      "image/png": "[encoded data removed]",
      "text/plain": [
       "<Figure size 511.2x255.6 with 1 Axes>"
      ]
     },
     "metadata": {
      "needs_background": "light"
     },
     "output_type": "display_data"
    }
   ],
   "source": [
    "font={'size':16, 'family':'serif'}\n",
    "plt.rc('font',**font)\n",
    "fig, ax = plt.subplots(nrows=1, ncols=1, figsize=(7.1,7.1*.5))\n",
    "\n",
    "ax.hist(iters, bins = 100)\n",
    "ax.axvline(uspdev, label = 'USP Hosts',lw=5, color='orange')\n",
    "#plt.vlines(so_only_uspdev, ymin = 0, ymax = maxy, label = 'USP Total Dev', color = 'orange',lw=10)\n",
    "ax.axvline(x = np.percentile(iters,50), label = 'Median', lw=3,color = 'k')\n",
    "ax.axvline(x = np.percentile(iters,16,), lw=3,color = 'k', linestyle = '--', label='$1 \\sigma$')\n",
    "ax.axvline(x = np.percentile(iters,84), lw=3,color = 'k', linestyle = '--')\n",
    "ax.axvline(x = np.percentile(iters,2), lw=3,color = 'k', linestyle = ':', label='$2 \\sigma$')\n",
    "ax.axvline(x = np.percentile(iters,98), lw=3,color = 'k', linestyle = ':')\n",
    "ax.set_xlabel('Sample Velocity Dispersion [km/s]')\n",
    "ax.set_ylabel('N')\n",
    "ax.legend(fontsize=12, frameon=False)\n",
    "ax.set_xlim(33,63)\n",
    "ax.set_ylim(None,4500)\n",
    "ax.set_xticks(np.arange(34,64,4))\n",
    "ax.xaxis.set_minor_locator(AutoMinorLocator(4))\n",
    "ax.yaxis.set_minor_locator(AutoMinorLocator(4))\n",
    "ax.tick_params(top=True, left=True, right=True, bottom=True, which='both')\n",
    "\n",
    "# ax[1].hist(iters2, bins = 100)\n",
    "# ax[1].axvline(so_only_uspdev2, label = 'Jupiter Hosts',lw=5, color='orange')\n",
    "# ax[1].axvline(x = np.percentile(iters2,50), label = 'Median', lw=3,color = 'k')\n",
    "# ax[1].axvline(x = np.percentile(iters2,16,), lw=3,color = 'k', linestyle = '--',label='$1 \\sigma$')\n",
    "# ax[1].axvline(x = np.percentile(iters2,84), lw=3,color = 'k', linestyle = '--')\n",
    "# ax[1].axvline(x = np.percentile(iters2,2), lw=3,color = 'k', linestyle = ':',label='$2 \\sigma$')\n",
    "# ax[1].axvline(x = np.percentile(iters2,98), lw=3,color = 'k', linestyle = ':')\n",
    "# ax[1].set_xlabel('Sample Velocity Dispersion [km/s]')\n",
    "# ax[1].set_ylabel('N')\n",
    "# ax[1].legend(fontsize=12, frameon=False)\n",
    "# #ax[1].set_xlim(35.75,51)\n",
    "# ax[1].set_xticks(np.arange(36,52,2))\n",
    "# ax[1].yaxis.set_major_locator(MultipleLocator(100))\n",
    "# ax[1].xaxis.set_minor_locator(AutoMinorLocator(4))\n",
    "# ax[1].yaxis.set_minor_locator(AutoMinorLocator(4))\n",
    "# ax[1].tick_params(top=True, left=True, right=True, bottom=True, which='both')\n",
    "# plt.tight_layout()\n",
    "\n",
    "plt.savefig('PaperPlots/so_only_usp_hist.png',bbox_inches='tight', dpi=300)\n",
    "plt.savefig('PaperPlots/so_only_usp_hist.pdf',bbox_inches='tight')"
   ]
  },
  {
   "cell_type": "code",
   "execution_count": 4,
   "metadata": {},
   "outputs": [],
   "source": [
    "# fracs=[]\n",
    "# alliters=[]\n",
    "# allhjs=[]\n",
    "# for j in range(100):\n",
    "#     iters=[]\n",
    "#     try:\n",
    "#         hjdev=np.loadtxt('mciters/hj_samp_'+str(j)+'/mc_iters.txt')[0,0]\n",
    "#         allhjs.append(hjdev)\n",
    "#     except:\n",
    "#         print(j)\n",
    "#     for i in range(20):\n",
    "#         try:\n",
    "#             iters.append(np.loadtxt('mciters/hj_samp_'+str(j)+'/mc_iters.txt')[:,1].tolist())\n",
    "#         except: \n",
    "#             print(j, i)\n",
    "#             continue\n",
    "#     iters=np.concatenate(iters)\n",
    "#     alliters.append(iters)\n",
    "#     iters=pd.Series(iters)\n",
    "#     fracs.append(len(iters.loc[iters<hjdev])/len(iters))\n",
    "# fracs=pd.Series(fracs)\n",
    "# alliters=np.concatenate(alliters)"
   ]
  },
  {
   "cell_type": "code",
   "execution_count": 5,
   "metadata": {},
   "outputs": [],
   "source": [
    "fracs=[]\n",
    "alliters=[]\n",
    "allhjs=[]\n",
    "for j in range(1000):\n",
    "    try:\n",
    "        hjdev=np.loadtxt('mciters/hj_samp_'+str(j)+'/mc_iters.txt')[0,0]\n",
    "        allhjs.append(hjdev)\n",
    "    except:\n",
    "        print(j)\n",
    "    try:\n",
    "        iters=np.loadtxt('mciters/hj_samp_'+str(j)+'/mc_iters.txt')[:,1].tolist()\n",
    "    except: \n",
    "        print(j)\n",
    "    alliters.append(iters)\n",
    "    iters=pd.Series(iters)\n",
    "    fracs.append(len(iters.loc[iters<hjdev])/len(iters))\n",
    "fracs=pd.Series(fracs)\n",
    "alliters=np.concatenate(alliters)"
   ]
  },
  {
   "cell_type": "code",
   "execution_count": 6,
   "metadata": {},
   "outputs": [
    {
     "data": {
      "text/plain": [
       "Text(0.5, 0, 'Percentile')"
      ]
     },
     "execution_count": 6,
     "metadata": {},
     "output_type": "execute_result"
    },
    {
     "data": {
      "image/png": "[encoded data removed]",
      "text/plain": [
       "<Figure size 288x288 with 1 Axes>"
      ]
     },
     "metadata": {
      "needs_background": "light"
     },
     "output_type": "display_data"
    }
   ],
   "source": [
    "plt.figure(figsize=(4,4))\n",
    "plt.hist(fracs, bins=10)\n",
    "plt.axvline(x=.598, c='k')\n",
    "plt.xlabel('Percentile', fontsize=16, fontfamily='serif')"
   ]
  },
  {
   "cell_type": "code",
   "execution_count": null,
   "metadata": {},
   "outputs": [],
   "source": []
  },
  {
   "cell_type": "code",
   "execution_count": 7,
   "metadata": {},
   "outputs": [
    {
     "name": "stdout",
     "output_type": "stream",
     "text": [
      "Number of subsamples for which the HJ hosts are 1 sigma kinematically cooler: 973\n",
      "Number of subsamples for which the HJ hosts are 2 sigma kinematically cooler: 713\n",
      "Number of subsamples for which the HJ hosts are 3 sigma kinematically cooler: 233\n"
     ]
    }
   ],
   "source": [
    "print('Number of subsamples for which the HJ hosts are 1 sigma kinematically cooler:', len(fracs[fracs<.15866]))\n",
    "print('Number of subsamples for which the HJ hosts are 2 sigma kinematically cooler:', len(fracs[fracs<.02275]))\n",
    "print('Number of subsamples for which the HJ hosts are 3 sigma kinematically cooler:', len(fracs[fracs<.00135]))"
   ]
  },
  {
   "cell_type": "code",
   "execution_count": 8,
   "metadata": {},
   "outputs": [
    {
     "name": "stdout",
     "output_type": "stream",
     "text": [
      "Number of subsamples for which the HJ hosts are as relatively warm as the USPs: 0\n"
     ]
    }
   ],
   "source": [
    "print('Number of subsamples for which the HJ hosts are as relatively warm as the USPs:', len(fracs[fracs>.598]))"
   ]
  },
  {
   "cell_type": "code",
   "execution_count": 9,
   "metadata": {},
   "outputs": [
    {
     "data": {
      "text/plain": [
       "(array([1.57184178e-05, 8.58467436e-05, 2.15221414e-04, 7.47229402e-04,\n",
       "        1.90192856e-03, 4.48700374e-03, 9.54470696e-03, 1.84763956e-02,\n",
       "        3.20619451e-02, 4.98056206e-02, 7.23917779e-02, 9.40977039e-02,\n",
       "        1.12403615e-01, 1.25579277e-01, 1.28704824e-01, 1.22354583e-01,\n",
       "        1.10669753e-01, 9.24255060e-02, 7.17436955e-02, 5.45888561e-02,\n",
       "        3.83166663e-02, 2.62715218e-02, 1.70061190e-02, 1.04140564e-02,\n",
       "        6.17733821e-03, 3.81836643e-03, 2.12319552e-03, 1.20306352e-03,\n",
       "        6.90401276e-04, 3.90542228e-04, 1.78948142e-04, 9.91469433e-05,\n",
       "        6.40827804e-05, 2.41821813e-05, 1.69275269e-05, 6.04554532e-06,\n",
       "        4.83643626e-06, 1.20910906e-06, 0.00000000e+00, 1.20910906e-06]),\n",
       " array([30.73782411, 31.56487936, 32.39193461, 33.21898986, 34.04604511,\n",
       "        34.87310036, 35.70015561, 36.52721086, 37.35426611, 38.18132136,\n",
       "        39.00837661, 39.83543186, 40.66248711, 41.48954236, 42.31659761,\n",
       "        43.14365286, 43.97070811, 44.79776336, 45.62481861, 46.45187386,\n",
       "        47.27892911, 48.10598436, 48.93303961, 49.76009486, 50.58715011,\n",
       "        51.41420536, 52.24126061, 53.06831586, 53.89537111, 54.72242636,\n",
       "        55.54948161, 56.37653686, 57.20359211, 58.03064736, 58.85770261,\n",
       "        59.68475786, 60.51181311, 61.33886836, 62.16592361, 62.99297886,\n",
       "        63.82003411]),\n",
       " <a list of 40 Patch objects>)"
      ]
     },
     "execution_count": 9,
     "metadata": {},
     "output_type": "execute_result"
    },
    {
     "data": {
      "image/png": "[encoded data removed]",
      "text/plain": [
       "<Figure size 432x288 with 1 Axes>"
      ]
     },
     "metadata": {
      "needs_background": "light"
     },
     "output_type": "display_data"
    }
   ],
   "source": [
    "plt.hist(allhjs, bins=10, alpha=0.5, density=True)\n",
    "plt.hist(alliters, bins=40, alpha=0.5, density=True)"
   ]
  },
  {
   "cell_type": "code",
   "execution_count": null,
   "metadata": {},
   "outputs": [],
   "source": []
  }
 ],
 "metadata": {
  "kernelspec": {
   "display_name": "Python 3",
   "language": "python",
   "name": "python3"
  },
  "language_info": {
   "codemirror_mode": {
    "name": "ipython",
    "version": 3
   },
   "file_extension": ".py",
   "mimetype": "text/x-python",
   "name": "python",
   "nbconvert_exporter": "python",
   "pygments_lexer": "ipython3",
   "version": "3.6.10"
  }
 },
 "nbformat": 4,
 "nbformat_minor": 2
}
